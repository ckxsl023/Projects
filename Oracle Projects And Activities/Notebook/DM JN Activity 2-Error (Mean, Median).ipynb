{
 "cells": [
  {
   "cell_type": "markdown",
   "metadata": {},
   "source": [
    "# MEAN, MEDIAN, MODE, STANDARD DIV, VARIANCE and MIN-MAX.\n",
    "\n",
    "Mean, median, and mode are three kinds of \"averages\". There are many \"averages\" in statistics, but these are, the three most common, and are certainly the three that are most likely to encounter in your pre-statistics courses.\n",
    "\n",
    "The \"Mean\" is the \"average\" you're used to, where you add up all the numbers and then divide by the number of numbers. \n",
    "The \"Median\" is the \"middle\" value in the list of numbers. To find the median, your numbers have to be listed in numerical order from smallest to largest, so you may have to rewrite your list before you can find the median. \n",
    "The \"Mode\" is the value that occurs most often. If no number in the list is repeated, then there is no mode for the list.\n",
    "\n",
    "The Standard Deviation is a measure of how spread out numbers are.\n",
    "Its symbol is σ (the greek letter sigma), in short, it is the square root of the Variance. \n",
    "\n",
    "The \"Variance\" is the average of the squared differences from the Mean.\n",
    "\n",
    "The \"Min-Max\", obviously, the min is simply the lowest observation, while the max is the highest observation. \n",
    "Basically, it is easiest to determine the min and max if the data are ordered from lowest to highest."
   ]
  },
  {
   "cell_type": "code",
   "execution_count": null,
   "metadata": {
    "scrolled": true
   },
   "outputs": [],
   "source": [
    "%matplotlib inline \n",
    "import pandas as pd\n",
    "import matplotlib.pyplot as plt\n",
    "file = r'___________'\n",
    "\n",
    "#create your own dataset with at least 5 columns\n",
    "#you can source out data from internet. \n",
    "\n",
    "df = pd.read_csv(file)\n",
    "df.head()"
   ]
  },
  {
   "cell_type": "code",
   "execution_count": null,
   "metadata": {},
   "outputs": [],
   "source": [
    "import numpy\n",
    "df = pd.read_csv(file)\n",
    "\n",
    "#compute for the Mean, Sum, Max, Min, Count, Meadian, Standard DV and Variance. \n",
    "____ = df['____'].mean()\n",
    "____ = df['____'].sum()\n",
    "____ = df['____'].max()\n",
    "____ = df['____'].min()\n",
    "____ = df['____'].count()\n",
    "____ = df['____'].median() \n",
    "____ = df['____'].std() \n",
    "____ = df['____'].var() \n",
    "\n",
    "#y, x variables in the given data set.\n",
    "print(df.shape)"
   ]
  },
  {
   "cell_type": "code",
   "execution_count": null,
   "metadata": {},
   "outputs": [],
   "source": [
    "#print all the required variables above\n",
    "\n",
    "print ('Mean of the column: ' + str(____))"
   ]
  },
  {
   "cell_type": "code",
   "execution_count": null,
   "metadata": {},
   "outputs": [],
   "source": [
    "import seaborn as sns\n",
    "import matplotlib.pyplot as plt\n",
    "sns.set(style=\"ticks\", color_codes=True)\n",
    "\n",
    "#show chart for variable 1\n",
    "plt.figure(figsize=(8,4)) # this creates a figure 8 inch wide, 4 inch high\n",
    "sns.countplot(df['____'], label=\"\")\n",
    "plt.show()\n",
    "\n",
    "#show chart for variable 2\n",
    "ax = sns.countplot(df['____'], label=\"\")\n",
    "ax.set_xticklabels(ax.get_xticklabels(), fontsize=7)\n",
    "plt.tight_layout()\n",
    "plt.show()\n",
    "\n",
    "#show chart for variable 3\n",
    "ax = sns.countplot(df['____'], label=\"\")\n",
    "ax.set_xticklabels(ax.get_xticklabels(), fontsize=10)\n",
    "plt.tight_layout()\n",
    "plt.show()"
   ]
  },
  {
   "cell_type": "code",
   "execution_count": null,
   "metadata": {},
   "outputs": [],
   "source": [
    "import pylab as pl"
   ]
  },
  {
   "cell_type": "code",
   "execution_count": null,
   "metadata": {},
   "outputs": [],
   "source": [
    "#create histogram comparing to other column\n",
    "\n",
    "df.drop('_____', axis=1).hist(bins=30, figsize=(5,5))\n",
    "pl.suptitle(\"Histogram\")\n",
    "plt.savefig('_____')\n",
    "plt.show()\n",
    "\n",
    "df.drop('_____', axis=1).hist(bins=30, figsize=(5,5))\n",
    "pl.suptitle(\"Histogram\")\n",
    "plt.savefig('____')\n",
    "plt.show()"
   ]
  },
  {
   "cell_type": "code",
   "execution_count": null,
   "metadata": {},
   "outputs": [],
   "source": [
    "# from pandas.tools.plotting import scatter_matrix\n",
    "from pandas.plotting import scatter_matrix\n",
    "from matplotlib import cm"
   ]
  },
  {
   "cell_type": "code",
   "execution_count": null,
   "metadata": {},
   "outputs": [],
   "source": [
    "feature_names = (['_____','_____','_____'])\n",
    "X = df[feature_names]\n",
    "y = df['_____']\n",
    "\n",
    "cmap = cm.get_cmap('gnuplot')\n",
    "scatter = scatter_matrix(X, c = y, marker = 'o', s= 40, hist_kwds ={'bins':15}, figsize=(9,9), cmap = cmap)\n",
    "plt.suptitle('Scatter-matrix for each input variable')\n",
    "plt.savefig('Sample_scatter_matrix')"
   ]
  },
  {
   "cell_type": "code",
   "execution_count": null,
   "metadata": {},
   "outputs": [],
   "source": [
    "#another way to get mean,median,standard deviation, variance...etc...\n",
    "df.describe()"
   ]
  },
  {
   "cell_type": "code",
   "execution_count": null,
   "metadata": {},
   "outputs": [],
   "source": []
  }
 ],
 "metadata": {
  "kernelspec": {
   "display_name": "Python 3",
   "language": "python",
   "name": "python3"
  },
  "language_info": {
   "codemirror_mode": {
    "name": "ipython",
    "version": 3
   },
   "file_extension": ".py",
   "mimetype": "text/x-python",
   "name": "python",
   "nbconvert_exporter": "python",
   "pygments_lexer": "ipython3",
   "version": "3.7.6"
  }
 },
 "nbformat": 4,
 "nbformat_minor": 4
}
