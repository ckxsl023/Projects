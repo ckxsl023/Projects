{
 "cells": [
  {
   "cell_type": "markdown",
   "metadata": {},
   "source": [
    "# CS170 - Introduction to Data Science (Jupyter Notebook)\n",
    "\n",
    "## Instructions\n",
    "Answer each line item by replacing the blanks with the necessary operator or a value. \n",
    "Make sure the kernel is set to Python 3**\n",
    "Once done, right click the actual notebook page and print as PDF.\n",
    "Last part of the notebook is the code for timestamp from your computer - Run it!.  "
   ]
  },
  {
   "cell_type": "code",
   "execution_count": null,
   "metadata": {},
   "outputs": [],
   "source": [
    "#library to use pd\n",
    "#library to use plt\n",
    "import _____ as pd\n",
    "import _____ as plt"
   ]
  },
  {
   "cell_type": "code",
   "execution_count": null,
   "metadata": {},
   "outputs": [],
   "source": [
    "pokemon = pd.read_csv(r\"C:\\Users\\jpqtomas\\Desktop\\DATA MINING TASKS\\Notebook - Pokemon\\pokemon.csv\") "
   ]
  },
  {
   "cell_type": "code",
   "execution_count": null,
   "metadata": {},
   "outputs": [],
   "source": [
    "pokemon._____\n",
    "#output the shape"
   ]
  },
  {
   "cell_type": "code",
   "execution_count": null,
   "metadata": {
    "scrolled": true
   },
   "outputs": [],
   "source": [
    "pokemon._____\n",
    "#command to show the first 10 records of the loaded data\n",
    "#head(10)"
   ]
  },
  {
   "cell_type": "code",
   "execution_count": null,
   "metadata": {},
   "outputs": [],
   "source": [
    "import seaborn as sns\n",
    "import matplotlib.pyplot as plt\n",
    "sns.set(style=\"ticks\", color_codes=True)\n",
    "\n",
    "#create a bar chart showing the number of pokemons per generation\n",
    "#use pok variable\n",
    "_____ = sns._____(pokemon['_____'], label=\"Generation\")\n",
    "pok.set_xticklabels(pok.get_xticklabels(), fontsize=7)\n",
    "plt.tight_layout()\n",
    "plt.show()"
   ]
  },
  {
   "cell_type": "code",
   "execution_count": null,
   "metadata": {},
   "outputs": [],
   "source": [
    "# create a crosstab of the data based on stamina and generation\n",
    "crosstab_01 = pd.crosstab(pokemon[_____], pokemon[_____])"
   ]
  },
  {
   "cell_type": "code",
   "execution_count": null,
   "metadata": {},
   "outputs": [],
   "source": [
    "# plot the crosstab data using a stacked bar type\n",
    "crosstab_01._____(kind='_____', stacked = _____) "
   ]
  },
  {
   "cell_type": "code",
   "execution_count": null,
   "metadata": {},
   "outputs": [],
   "source": [
    "# create crosstab of data to plot using div to sum within each row of the table  \n",
    "crosstab_norm = crosstab_01._____(crosstab_01._____(1), axis = _____)  "
   ]
  },
  {
   "cell_type": "code",
   "execution_count": null,
   "metadata": {},
   "outputs": [],
   "source": [
    "# plot a normalized crosstab data  \n",
    "crosstab_norm._____(_____='bar', _____ = True)  "
   ]
  },
  {
   "cell_type": "code",
   "execution_count": null,
   "metadata": {},
   "outputs": [],
   "source": [
    "# create another crosstab  showing the generation and legendary\n",
    "crosstab_02 = pd.crosstab(pokemon['_____'], pokemon['_____'])"
   ]
  },
  {
   "cell_type": "code",
   "execution_count": null,
   "metadata": {},
   "outputs": [],
   "source": [
    "# Obtain percentage of the legendary pokemon based on its generation \n",
    "round(crosstab_02._____(crosstab_02._____(0), axis = _____)*_____, 1)"
   ]
  },
  {
   "cell_type": "code",
   "execution_count": null,
   "metadata": {},
   "outputs": [],
   "source": [
    "# import required package second task \n",
    "import _____ as _____  \n",
    "import matplotlib.pyplot as plt  "
   ]
  },
  {
   "cell_type": "code",
   "execution_count": null,
   "metadata": {},
   "outputs": [],
   "source": [
    "# then using the percentage data, create a subset for each element of the overlay\n",
    "# is legendary overlay generation\n",
    "pok_y = pokemon[pokemon.is_legendary == _____][_____]  \n",
    "pok_n = pokemon[pokemon.is_legendary == l]['p_genration'] "
   ]
  },
  {
   "cell_type": "code",
   "execution_count": null,
   "metadata": {
    "scrolled": true
   },
   "outputs": [],
   "source": [
    "# now create a histogram based on the two subsets  \n",
    "plt.hist([_____, _____], bins = _____, stacked = True)  \n",
    "plt.legend(['Not Legendary = 0', 'Legendary = 1'])  \n",
    "plt.title('Histogram of Legendary Pokemon Overlay')  \n",
    "plt.xlabel('Generation'); plt.ylabel('Frequency'); plt.show() "
   ]
  },
  {
   "cell_type": "code",
   "execution_count": null,
   "metadata": {},
   "outputs": [],
   "source": [
    "# save the output from the non-normalized plot into variables  \n",
    "(_____, bins, _____) = plt._____([_____, _____], bins = _____, stacked = True)  "
   ]
  },
  {
   "cell_type": "code",
   "execution_count": null,
   "metadata": {},
   "outputs": [],
   "source": [
    "# combine height variables into single array  \n",
    "n_table = np._____((n[0], n[1]))  "
   ]
  },
  {
   "cell_type": "code",
   "execution_count": null,
   "metadata": {},
   "outputs": [],
   "source": [
    "# divide each row by the sum of that row \n",
    "# no revisions on this\n",
    "n_norm = n_table / n_table.sum(axis=1)[:, None]"
   ]
  },
  {
   "cell_type": "code",
   "execution_count": null,
   "metadata": {},
   "outputs": [],
   "source": [
    "# determin upper and lower bounds of each bin  \n",
    "_____ = np._____((bins[0:10], bins[1:11]))  "
   ]
  },
  {
   "cell_type": "code",
   "execution_count": null,
   "metadata": {},
   "outputs": [],
   "source": [
    "# construct normalized plot plt.bar p1 and p2 \n",
    "_____ = plt.bar(x = _____[:,0], height = n_norm[:,0], width = _____[:, 1] - _____[:, 0])  \n",
    "p2 = plt.bar(x = ourbins[:,0], height = n_norm[:,1], width = ourbins[:, 1] - ourbins[:, 0], bottom = n_norm[:,0])  \n",
    "plt.legend(['Legendary = Yes', 'Legendary = No'])  \n",
    "plt.title('Normalized Histogram of Pokemon with Response Overlay')  \n",
    "plt.xlabel('Generation'); plt.ylabel('Proportion'); plt.show()  "
   ]
  },
  {
   "cell_type": "code",
   "execution_count": null,
   "metadata": {},
   "outputs": [],
   "source": [
    "# use the cut function in Pandas to create the bins under 20, 20 to 60 and over 100\n",
    "# based on attack\n",
    "pokemon['VAR'] = pd._____(x = pokemon['sp_attack'], bins = [_____, _____, _____, _____],  \n",
    "labels=[\"Under 20\", \"20 to 60\", \"Over 100\"], right = True)  "
   ]
  },
  {
   "cell_type": "code",
   "execution_count": null,
   "metadata": {},
   "outputs": [],
   "source": [
    "# create the crosstab of attack_binned based on legendary and non-legendary or published or not  \n",
    "crosstab_02 = pd.crosstab(pokemon['VAR'], pokemon[_____])  "
   ]
  },
  {
   "cell_type": "code",
   "execution_count": null,
   "metadata": {},
   "outputs": [],
   "source": [
    "# then plot a crosstab data based on VAR \n",
    "crosstab_02._____(kind=_____, stacked = True,  \n",
    "title = 'Bar Graph of VAR(Binned) with Response Overlay')"
   ]
  },
  {
   "cell_type": "code",
   "execution_count": null,
   "metadata": {
    "deletable": false,
    "editable": false
   },
   "outputs": [],
   "source": [
    "import datetime\n",
    "import socket \n",
    "def get_Host_name_IP(): \n",
    "    try: \n",
    "        host_name = socket.gethostname() \n",
    "        host_ip = socket.gethostbyname(host_name) \n",
    "        print(\"Hostname:\",host_name) \n",
    "        print(\"IP Address:\",host_ip) \n",
    "    except: \n",
    "        print(\"No visible IP Address\") \n",
    "get_Host_name_IP()\n",
    "now = datetime.datetime.now()\n",
    "print (\"Time Stamp:\", now.strftime(\"%Y-%m-%d %H:%M:%S\"))"
   ]
  },
  {
   "cell_type": "code",
   "execution_count": null,
   "metadata": {},
   "outputs": [],
   "source": []
  }
 ],
 "metadata": {
  "kernelspec": {
   "display_name": "Python 3",
   "language": "python",
   "name": "python3"
  },
  "language_info": {
   "codemirror_mode": {
    "name": "ipython",
    "version": 3
   },
   "file_extension": ".py",
   "mimetype": "text/x-python",
   "name": "python",
   "nbconvert_exporter": "python",
   "pygments_lexer": "ipython3",
   "version": "3.7.6"
  }
 },
 "nbformat": 4,
 "nbformat_minor": 4
}
